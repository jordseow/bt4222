{
 "cells": [
  {
   "cell_type": "markdown",
   "metadata": {},
   "source": [
    "# Casts' Interest Over Time"
   ]
  },
  {
   "cell_type": "markdown",
   "metadata": {},
   "source": [
    "## Pytrends API\n",
    "\n",
    "Scraping of actor’s interest score from Google Trends is done to gain further insight to measure the effect of the popularity of the actors' on the popularity of the movie. An average interest score will then be computed from the search volume which indicates an individual actor's popularity.\n",
    "\n",
    "Pytrends API was used to automate download of reports from Google Trends."
   ]
  },
  {
   "cell_type": "code",
   "execution_count": 1,
   "metadata": {},
   "outputs": [],
   "source": [
    "import pandas as pd\n",
    "import numpy as np\n",
    "import json\n",
    "import re\n",
    "from time import sleep\n",
    "from datetime import date, timedelta\n",
    "\n",
    "#Importing Pytrends\n",
    "from pytrends.request import TrendReq"
   ]
  },
  {
   "cell_type": "markdown",
   "metadata": {},
   "source": [
    "## Exploratory Data Analysis on Casts\n",
    "\n",
    "We performed EDA on the cast column of the original dataset and realised a few observations:\n",
    "\n",
    "1) There were movies without any casts, we will remove them from the dataset.\n",
    "\n",
    "2) There were accented characters and symbols in names that cannot be read by the API, we will remove them from our dataset.\n",
    "\n",
    "3) Some movies have only less than 3 casts, we will remove them as well."
   ]
  },
  {
   "cell_type": "code",
   "execution_count": 2,
   "metadata": {},
   "outputs": [
    {
     "data": {
      "text/html": [
       "<div>\n",
       "<style scoped>\n",
       "    .dataframe tbody tr th:only-of-type {\n",
       "        vertical-align: middle;\n",
       "    }\n",
       "\n",
       "    .dataframe tbody tr th {\n",
       "        vertical-align: top;\n",
       "    }\n",
       "\n",
       "    .dataframe thead th {\n",
       "        text-align: right;\n",
       "    }\n",
       "</style>\n",
       "<table border=\"1\" class=\"dataframe\">\n",
       "  <thead>\n",
       "    <tr style=\"text-align: right;\">\n",
       "      <th></th>\n",
       "      <th>id</th>\n",
       "      <th>imdb_id</th>\n",
       "      <th>popularity</th>\n",
       "      <th>budget</th>\n",
       "      <th>revenue</th>\n",
       "      <th>original_title</th>\n",
       "      <th>cast</th>\n",
       "      <th>homepage</th>\n",
       "      <th>director</th>\n",
       "      <th>tagline</th>\n",
       "      <th>...</th>\n",
       "      <th>runtime</th>\n",
       "      <th>genres</th>\n",
       "      <th>production_companies</th>\n",
       "      <th>release_date</th>\n",
       "      <th>vote_count</th>\n",
       "      <th>vote_average</th>\n",
       "      <th>release_year</th>\n",
       "      <th>budget_adj</th>\n",
       "      <th>revenue_adj</th>\n",
       "      <th>Unnamed: 21</th>\n",
       "    </tr>\n",
       "  </thead>\n",
       "  <tbody>\n",
       "    <tr>\n",
       "      <th>0</th>\n",
       "      <td>135397</td>\n",
       "      <td>tt0369610</td>\n",
       "      <td>32.985763</td>\n",
       "      <td>150000000</td>\n",
       "      <td>1513528810</td>\n",
       "      <td>Jurassic World</td>\n",
       "      <td>Chris Pratt|Bryce Dallas Howard|Irrfan Khan|Vi...</td>\n",
       "      <td>http://www.jurassicworld.com/</td>\n",
       "      <td>Colin Trevorrow</td>\n",
       "      <td>The park is open.</td>\n",
       "      <td>...</td>\n",
       "      <td>124</td>\n",
       "      <td>Action|Adventure|Science Fiction|Thriller</td>\n",
       "      <td>Universal Studios|Amblin Entertainment|Legenda...</td>\n",
       "      <td>2015-06-09</td>\n",
       "      <td>5562</td>\n",
       "      <td>6.5</td>\n",
       "      <td>2015</td>\n",
       "      <td>137999939.3</td>\n",
       "      <td>1.392446e+09</td>\n",
       "      <td>0.0</td>\n",
       "    </tr>\n",
       "    <tr>\n",
       "      <th>1</th>\n",
       "      <td>76341</td>\n",
       "      <td>tt1392190</td>\n",
       "      <td>28.419936</td>\n",
       "      <td>150000000</td>\n",
       "      <td>378436354</td>\n",
       "      <td>Mad Max: Fury Road</td>\n",
       "      <td>Tom Hardy|Charlize Theron|Hugh Keays-Byrne|Nic...</td>\n",
       "      <td>http://www.madmaxmovie.com/</td>\n",
       "      <td>George Miller</td>\n",
       "      <td>What a Lovely Day.</td>\n",
       "      <td>...</td>\n",
       "      <td>120</td>\n",
       "      <td>Action|Adventure|Science Fiction|Thriller</td>\n",
       "      <td>Village Roadshow Pictures|Kennedy Miller Produ...</td>\n",
       "      <td>2015-05-13</td>\n",
       "      <td>6185</td>\n",
       "      <td>7.1</td>\n",
       "      <td>2015</td>\n",
       "      <td>137999939.3</td>\n",
       "      <td>3.481613e+08</td>\n",
       "      <td>1.0</td>\n",
       "    </tr>\n",
       "    <tr>\n",
       "      <th>2</th>\n",
       "      <td>262500</td>\n",
       "      <td>tt2908446</td>\n",
       "      <td>13.112507</td>\n",
       "      <td>110000000</td>\n",
       "      <td>295238201</td>\n",
       "      <td>Insurgent</td>\n",
       "      <td>Shailene Woodley|Theo James|Kate Winslet|Ansel...</td>\n",
       "      <td>http://www.thedivergentseries.movie/#insurgent</td>\n",
       "      <td>Robert Schwentke</td>\n",
       "      <td>One Choice Can Destroy You</td>\n",
       "      <td>...</td>\n",
       "      <td>119</td>\n",
       "      <td>Adventure|Science Fiction|Thriller</td>\n",
       "      <td>Summit Entertainment|Mandeville Films|Red Wago...</td>\n",
       "      <td>2015-03-18</td>\n",
       "      <td>2480</td>\n",
       "      <td>6.3</td>\n",
       "      <td>2015</td>\n",
       "      <td>101199955.5</td>\n",
       "      <td>2.716190e+08</td>\n",
       "      <td>3.0</td>\n",
       "    </tr>\n",
       "    <tr>\n",
       "      <th>3</th>\n",
       "      <td>140607</td>\n",
       "      <td>tt2488496</td>\n",
       "      <td>11.173104</td>\n",
       "      <td>200000000</td>\n",
       "      <td>2068178225</td>\n",
       "      <td>Star Wars: The Force Awakens</td>\n",
       "      <td>Harrison Ford|Mark Hamill|Carrie Fisher|Adam D...</td>\n",
       "      <td>http://www.starwars.com/films/star-wars-episod...</td>\n",
       "      <td>J.J. Abrams</td>\n",
       "      <td>Every generation has a story.</td>\n",
       "      <td>...</td>\n",
       "      <td>136</td>\n",
       "      <td>Action|Adventure|Science Fiction|Fantasy</td>\n",
       "      <td>Lucasfilm|Truenorth Productions|Bad Robot</td>\n",
       "      <td>2015-12-15</td>\n",
       "      <td>5292</td>\n",
       "      <td>7.5</td>\n",
       "      <td>2015</td>\n",
       "      <td>183999919.0</td>\n",
       "      <td>1.902723e+09</td>\n",
       "      <td>4.0</td>\n",
       "    </tr>\n",
       "    <tr>\n",
       "      <th>4</th>\n",
       "      <td>168259</td>\n",
       "      <td>tt2820852</td>\n",
       "      <td>9.335014</td>\n",
       "      <td>190000000</td>\n",
       "      <td>1506249360</td>\n",
       "      <td>Furious 7</td>\n",
       "      <td>Vin Diesel|Paul Walker|Jason Statham|Michelle ...</td>\n",
       "      <td>http://www.furious7.com/</td>\n",
       "      <td>James Wan</td>\n",
       "      <td>Vengeance Hits Home</td>\n",
       "      <td>...</td>\n",
       "      <td>137</td>\n",
       "      <td>Action|Crime|Thriller</td>\n",
       "      <td>Universal Pictures|Original Film|Media Rights ...</td>\n",
       "      <td>2015-04-01</td>\n",
       "      <td>2947</td>\n",
       "      <td>7.3</td>\n",
       "      <td>2015</td>\n",
       "      <td>174799923.1</td>\n",
       "      <td>1.385749e+09</td>\n",
       "      <td>NaN</td>\n",
       "    </tr>\n",
       "  </tbody>\n",
       "</table>\n",
       "<p>5 rows × 22 columns</p>\n",
       "</div>"
      ],
      "text/plain": [
       "       id    imdb_id  popularity     budget     revenue  \\\n",
       "0  135397  tt0369610   32.985763  150000000  1513528810   \n",
       "1   76341  tt1392190   28.419936  150000000   378436354   \n",
       "2  262500  tt2908446   13.112507  110000000   295238201   \n",
       "3  140607  tt2488496   11.173104  200000000  2068178225   \n",
       "4  168259  tt2820852    9.335014  190000000  1506249360   \n",
       "\n",
       "                 original_title  \\\n",
       "0                Jurassic World   \n",
       "1            Mad Max: Fury Road   \n",
       "2                     Insurgent   \n",
       "3  Star Wars: The Force Awakens   \n",
       "4                     Furious 7   \n",
       "\n",
       "                                                cast  \\\n",
       "0  Chris Pratt|Bryce Dallas Howard|Irrfan Khan|Vi...   \n",
       "1  Tom Hardy|Charlize Theron|Hugh Keays-Byrne|Nic...   \n",
       "2  Shailene Woodley|Theo James|Kate Winslet|Ansel...   \n",
       "3  Harrison Ford|Mark Hamill|Carrie Fisher|Adam D...   \n",
       "4  Vin Diesel|Paul Walker|Jason Statham|Michelle ...   \n",
       "\n",
       "                                            homepage          director  \\\n",
       "0                      http://www.jurassicworld.com/   Colin Trevorrow   \n",
       "1                        http://www.madmaxmovie.com/     George Miller   \n",
       "2     http://www.thedivergentseries.movie/#insurgent  Robert Schwentke   \n",
       "3  http://www.starwars.com/films/star-wars-episod...       J.J. Abrams   \n",
       "4                           http://www.furious7.com/         James Wan   \n",
       "\n",
       "                         tagline  ... runtime  \\\n",
       "0              The park is open.  ...     124   \n",
       "1             What a Lovely Day.  ...     120   \n",
       "2     One Choice Can Destroy You  ...     119   \n",
       "3  Every generation has a story.  ...     136   \n",
       "4            Vengeance Hits Home  ...     137   \n",
       "\n",
       "                                      genres  \\\n",
       "0  Action|Adventure|Science Fiction|Thriller   \n",
       "1  Action|Adventure|Science Fiction|Thriller   \n",
       "2         Adventure|Science Fiction|Thriller   \n",
       "3   Action|Adventure|Science Fiction|Fantasy   \n",
       "4                      Action|Crime|Thriller   \n",
       "\n",
       "                                production_companies release_date vote_count  \\\n",
       "0  Universal Studios|Amblin Entertainment|Legenda...   2015-06-09       5562   \n",
       "1  Village Roadshow Pictures|Kennedy Miller Produ...   2015-05-13       6185   \n",
       "2  Summit Entertainment|Mandeville Films|Red Wago...   2015-03-18       2480   \n",
       "3          Lucasfilm|Truenorth Productions|Bad Robot   2015-12-15       5292   \n",
       "4  Universal Pictures|Original Film|Media Rights ...   2015-04-01       2947   \n",
       "\n",
       "  vote_average  release_year   budget_adj   revenue_adj  Unnamed: 21  \n",
       "0          6.5          2015  137999939.3  1.392446e+09          0.0  \n",
       "1          7.1          2015  137999939.3  3.481613e+08          1.0  \n",
       "2          6.3          2015  101199955.5  2.716190e+08          3.0  \n",
       "3          7.5          2015  183999919.0  1.902723e+09          4.0  \n",
       "4          7.3          2015  174799923.1  1.385749e+09          NaN  \n",
       "\n",
       "[5 rows x 22 columns]"
      ]
     },
     "execution_count": 2,
     "metadata": {},
     "output_type": "execute_result"
    }
   ],
   "source": [
    "# Remove movies < 2007 \n",
    "df = pd.read_csv(\"tmdb_movies_data.csv\")\n",
    "df = df[(df[\"release_year\"] >= 2007)]\n",
    "\n",
    "# Converting to release date to datetime object\n",
    "df['release_date'] = pd.to_datetime(df['release_date'], utc = False)\n",
    "df['release_date'] = df['release_date'].astype(str)\n",
    "df.head()"
   ]
  },
  {
   "cell_type": "markdown",
   "metadata": {},
   "source": [
    "### 1) Removing movies without casts"
   ]
  },
  {
   "cell_type": "code",
   "execution_count": 3,
   "metadata": {},
   "outputs": [
    {
     "data": {
      "text/plain": [
       "53"
      ]
     },
     "execution_count": 3,
     "metadata": {},
     "output_type": "execute_result"
    }
   ],
   "source": [
    "# Checking for null values in casts\n",
    "len(df[df[\"cast\"].isnull()])"
   ]
  },
  {
   "cell_type": "code",
   "execution_count": 4,
   "metadata": {},
   "outputs": [],
   "source": [
    "# Remove null values in casts\n",
    "df = df[df[\"cast\"].isnull() == False]"
   ]
  },
  {
   "cell_type": "markdown",
   "metadata": {},
   "source": [
    "### 2) Removing casts with accented characters and symbols\n",
    "\n",
    "We realised that there were characters with symbols in them. Since the API couldn't read them, we will remove them from our dataset"
   ]
  },
  {
   "cell_type": "code",
   "execution_count": 5,
   "metadata": {},
   "outputs": [
    {
     "data": {
      "text/plain": [
       "728"
      ]
     },
     "execution_count": 5,
     "metadata": {},
     "output_type": "execute_result"
    }
   ],
   "source": [
    "# Checking how many casts are with accented characters and symbols\n",
    "accented_casts = []\n",
    "for row,col in df.iterrows():\n",
    "    names = col[\"cast\"].split(\"|\")\n",
    "    for i in names:\n",
    "        if bool(re.search(r'[^\\x00-\\x7F]+', i)) == True:\n",
    "            accented_casts.append(i)\n",
    "len(accented_casts)"
   ]
  },
  {
   "cell_type": "code",
   "execution_count": 6,
   "metadata": {},
   "outputs": [],
   "source": [
    "# Removing them from dataset\n",
    "def remove_casts(string):\n",
    "    names = []\n",
    "    string = string.split(\"|\")\n",
    "    for name in string:\n",
    "        if bool(re.search(r'[^\\x00-\\x7F]+', name)) == False:\n",
    "            names.append(name)\n",
    "    return names\n",
    "\n",
    "df[\"cast\"] = df[\"cast\"].apply(lambda x: remove_casts(x))"
   ]
  },
  {
   "cell_type": "markdown",
   "metadata": {},
   "source": [
    "### 3) Removing movies with less than 3 casts\n",
    "\n",
    "We realised that there were movies with less than 3 casts, we will remove them from our dataset because it does not accurately represent the movies."
   ]
  },
  {
   "cell_type": "code",
   "execution_count": 7,
   "metadata": {},
   "outputs": [
    {
     "name": "stdout",
     "output_type": "stream",
     "text": [
      "5.0    4033\n",
      "4.0     620\n",
      "3.0     146\n",
      "1.0     115\n",
      "2.0     100\n",
      "0.0       6\n",
      "Name: cast_count, dtype: int64\n"
     ]
    }
   ],
   "source": [
    "# Number of cast per movie\n",
    "for row,col in df.iterrows():\n",
    "    names = col[\"cast\"]\n",
    "    df.at[row, \"cast_count\"] = len(names)\n",
    "print(df[\"cast_count\"].value_counts())"
   ]
  },
  {
   "cell_type": "code",
   "execution_count": 8,
   "metadata": {},
   "outputs": [],
   "source": [
    "# Removing movies with less than 3 casts\n",
    "df = df[df[\"cast_count\"] > 2]"
   ]
  },
  {
   "cell_type": "code",
   "execution_count": 9,
   "metadata": {},
   "outputs": [
    {
     "data": {
      "text/plain": [
       "(4799, 23)"
      ]
     },
     "execution_count": 9,
     "metadata": {},
     "output_type": "execute_result"
    }
   ],
   "source": [
    "# Final shape\n",
    "df.shape"
   ]
  },
  {
   "cell_type": "markdown",
   "metadata": {},
   "source": [
    "## Retrieving Casts Interest Over Time\n",
    "\n",
    "Google trends reports the interest over time on a weekly basis and we retrieved casts’ interest over time via the API from 2004 to the date when the movie was released.\n",
    "\n",
    "Casts that have interest over time == 0 were reported as KeyError. This means that those casts have very low search volume. It is still relevant to us and we will concat them later on."
   ]
  },
  {
   "cell_type": "code",
   "execution_count": 10,
   "metadata": {},
   "outputs": [],
   "source": [
    "pytrend = TrendReq()"
   ]
  },
  {
   "cell_type": "code",
   "execution_count": null,
   "metadata": {},
   "outputs": [],
   "source": [
    "# Code to use Pytrends to gather interest over time\n",
    "start_date = '2004-01-01'\n",
    "wait_time = 10.0\n",
    "wait_time_2 = 5.0\n",
    "\n",
    "def getIOT():\n",
    "    cols = [\"id\", \"movie_name\", \"cast\", \"average_interest\"]\n",
    "    masterDF = pd.DataFrame(columns = cols)\n",
    "    errorDF = pd.DataFrame(columns = [\"movie_name\", \"cast\"])\n",
    "    error_names = []\n",
    "    total = 0\n",
    "    error = 0\n",
    "    for row in len(df):\n",
    "        try:\n",
    "            _id = df.loc[row][\"id\"]\n",
    "            title = df.loc[row][\"original_title\"]\n",
    "            names = df.loc[row][\"cast\"]\n",
    "            date = start_date + \" \" + df.loc[row][\"release_date\"]\n",
    "            x = names.split(\"|\")\n",
    "        except KeyError:\n",
    "            continue\n",
    "        for i in x:\n",
    "            try:\n",
    "                pytrend.build_payload(kw_list=[i], timeframe = date)\n",
    "                results = pytrend.interest_over_time()\n",
    "                results['Total'] = results[i].sum()/len(results)\n",
    "                results = results.iloc[0][\"Total\"]\n",
    "                data = [[_id, title, i, results]]\n",
    "                results = pd.DataFrame(data, columns = cols)\n",
    "                masterDF = masterDF.append(results, ignore_index=True)\n",
    "                sleep(wait_time_2)\n",
    "            except KeyError: # cast with 0 popularity\n",
    "                print(i)\n",
    "                error_names.append(i)\n",
    "                error += 1\n",
    "                data = [[title, i]]\n",
    "                dataz = pd.DataFrame(data, columns = [\"movie_name\", \"cast\"])\n",
    "                errorDF = errorDF.append(dataz, ignore_index=True)\n",
    "                print(\"errorcount: \",error,)\n",
    "                continue\n",
    "            except: # HTTP error, too many requests being made.\n",
    "                print(\"ERROR!!!\")\n",
    "                errorDF.to_csv(\"ERROR.csv\")\n",
    "                return masterDF.to_csv(\"IOT.csv\")\n",
    "        total += 1\n",
    "        print(total)\n",
    "    print(\"COMPLETE!!\")\n",
    "    errorDF.to_csv(\"ERROR.csv\")\n",
    "    return masterDF.to_csv(\"IOT.csv\")"
   ]
  },
  {
   "cell_type": "markdown",
   "metadata": {},
   "source": [
    "## Concatenate\n",
    "\n",
    "We concat the main csv which contains the interest over time of casts and the error csv which contains casts that have 0 interest over time. \n",
    "\n",
    "We then export out the data to merge with the rest of our data."
   ]
  },
  {
   "cell_type": "code",
   "execution_count": 11,
   "metadata": {},
   "outputs": [],
   "source": [
    "df_Error = pd.read_csv(\"ERROR.csv\")\n",
    "df_IOT = pd.read_csv(\"IOT.csv\")\n",
    "df_tmdb = pd.read_excel(\"tmdb_movies_data.xlsx\")"
   ]
  },
  {
   "cell_type": "code",
   "execution_count": 12,
   "metadata": {},
   "outputs": [
    {
     "name": "stdout",
     "output_type": "stream",
     "text": [
      "Shape of error csv: (547, 3)\n",
      "Shape of main csv: (27527, 5)\n"
     ]
    }
   ],
   "source": [
    "del df_Error['Unnamed: 0']\n",
    "print(f'Shape of error csv: {df_Error.shape}')\n",
    "print(f'Shape of main csv: {df_IOT.shape}')"
   ]
  },
  {
   "cell_type": "code",
   "execution_count": 13,
   "metadata": {},
   "outputs": [
    {
     "data": {
      "text/html": [
       "<div>\n",
       "<style scoped>\n",
       "    .dataframe tbody tr th:only-of-type {\n",
       "        vertical-align: middle;\n",
       "    }\n",
       "\n",
       "    .dataframe tbody tr th {\n",
       "        vertical-align: top;\n",
       "    }\n",
       "\n",
       "    .dataframe thead th {\n",
       "        text-align: right;\n",
       "    }\n",
       "</style>\n",
       "<table border=\"1\" class=\"dataframe\">\n",
       "  <thead>\n",
       "    <tr style=\"text-align: right;\">\n",
       "      <th></th>\n",
       "      <th>id</th>\n",
       "      <th>movie_name</th>\n",
       "      <th>cast</th>\n",
       "      <th>average_interest</th>\n",
       "    </tr>\n",
       "  </thead>\n",
       "  <tbody>\n",
       "    <tr>\n",
       "      <th>0</th>\n",
       "      <td>674</td>\n",
       "      <td>Harry Potter and the Goblet of Fire</td>\n",
       "      <td>Daniel Radcliffe</td>\n",
       "      <td>26.927083</td>\n",
       "    </tr>\n",
       "    <tr>\n",
       "      <th>1</th>\n",
       "      <td>674</td>\n",
       "      <td>Harry Potter and the Goblet of Fire</td>\n",
       "      <td>Rupert Grint</td>\n",
       "      <td>27.677083</td>\n",
       "    </tr>\n",
       "    <tr>\n",
       "      <th>2</th>\n",
       "      <td>674</td>\n",
       "      <td>Harry Potter and the Goblet of Fire</td>\n",
       "      <td>Emma Watson</td>\n",
       "      <td>22.812500</td>\n",
       "    </tr>\n",
       "    <tr>\n",
       "      <th>3</th>\n",
       "      <td>674</td>\n",
       "      <td>Harry Potter and the Goblet of Fire</td>\n",
       "      <td>Ralph Fiennes</td>\n",
       "      <td>15.479167</td>\n",
       "    </tr>\n",
       "    <tr>\n",
       "      <th>4</th>\n",
       "      <td>674</td>\n",
       "      <td>Harry Potter and the Goblet of Fire</td>\n",
       "      <td>Michael Gambon</td>\n",
       "      <td>11.541667</td>\n",
       "    </tr>\n",
       "  </tbody>\n",
       "</table>\n",
       "</div>"
      ],
      "text/plain": [
       "    id                           movie_name              cast  \\\n",
       "0  674  Harry Potter and the Goblet of Fire  Daniel Radcliffe   \n",
       "1  674  Harry Potter and the Goblet of Fire      Rupert Grint   \n",
       "2  674  Harry Potter and the Goblet of Fire       Emma Watson   \n",
       "3  674  Harry Potter and the Goblet of Fire     Ralph Fiennes   \n",
       "4  674  Harry Potter and the Goblet of Fire    Michael Gambon   \n",
       "\n",
       "   average_interest  \n",
       "0         26.927083  \n",
       "1         27.677083  \n",
       "2         22.812500  \n",
       "3         15.479167  \n",
       "4         11.541667  "
      ]
     },
     "execution_count": 13,
     "metadata": {},
     "output_type": "execute_result"
    }
   ],
   "source": [
    "# Inspecting main csv\n",
    "del df_IOT['Unnamed: 0']\n",
    "df_IOT.head()"
   ]
  },
  {
   "cell_type": "code",
   "execution_count": 14,
   "metadata": {},
   "outputs": [],
   "source": [
    "# Concatenate both CSVs\n",
    "df = pd.concat([df_Error, df_IOT], ignore_index = True)"
   ]
  },
  {
   "cell_type": "code",
   "execution_count": 15,
   "metadata": {},
   "outputs": [
    {
     "data": {
      "text/html": [
       "<div>\n",
       "<style scoped>\n",
       "    .dataframe tbody tr th:only-of-type {\n",
       "        vertical-align: middle;\n",
       "    }\n",
       "\n",
       "    .dataframe tbody tr th {\n",
       "        vertical-align: top;\n",
       "    }\n",
       "\n",
       "    .dataframe thead th {\n",
       "        text-align: right;\n",
       "    }\n",
       "</style>\n",
       "<table border=\"1\" class=\"dataframe\">\n",
       "  <thead>\n",
       "    <tr style=\"text-align: right;\">\n",
       "      <th></th>\n",
       "      <th>id</th>\n",
       "      <th>average_interest</th>\n",
       "    </tr>\n",
       "  </thead>\n",
       "  <tbody>\n",
       "    <tr>\n",
       "      <th>0</th>\n",
       "      <td>17.0</td>\n",
       "      <td>16.098148</td>\n",
       "    </tr>\n",
       "    <tr>\n",
       "      <th>1</th>\n",
       "      <td>25.0</td>\n",
       "      <td>20.425000</td>\n",
       "    </tr>\n",
       "    <tr>\n",
       "      <th>2</th>\n",
       "      <td>26.0</td>\n",
       "      <td>2.777778</td>\n",
       "    </tr>\n",
       "    <tr>\n",
       "      <th>3</th>\n",
       "      <td>27.0</td>\n",
       "      <td>21.017172</td>\n",
       "    </tr>\n",
       "    <tr>\n",
       "      <th>4</th>\n",
       "      <td>35.0</td>\n",
       "      <td>11.783871</td>\n",
       "    </tr>\n",
       "  </tbody>\n",
       "</table>\n",
       "</div>"
      ],
      "text/plain": [
       "     id  average_interest\n",
       "0  17.0         16.098148\n",
       "1  25.0         20.425000\n",
       "2  26.0          2.777778\n",
       "3  27.0         21.017172\n",
       "4  35.0         11.783871"
      ]
     },
     "execution_count": 15,
     "metadata": {},
     "output_type": "execute_result"
    }
   ],
   "source": [
    "# Taking the average of all the casts\n",
    "df = df.groupby(\"id\").mean()\n",
    "df = df.reset_index()\n",
    "df.head()"
   ]
  },
  {
   "cell_type": "code",
   "execution_count": 16,
   "metadata": {},
   "outputs": [],
   "source": [
    "# Export df out for compiling\n",
    "# df.to_csv(\"average_cast_interest.csv\")"
   ]
  }
 ],
 "metadata": {
  "kernelspec": {
   "display_name": "Python 3",
   "language": "python",
   "name": "python3"
  },
  "language_info": {
   "codemirror_mode": {
    "name": "ipython",
    "version": 3
   },
   "file_extension": ".py",
   "mimetype": "text/x-python",
   "name": "python",
   "nbconvert_exporter": "python",
   "pygments_lexer": "ipython3",
   "version": "3.7.6"
  }
 },
 "nbformat": 4,
 "nbformat_minor": 2
}
