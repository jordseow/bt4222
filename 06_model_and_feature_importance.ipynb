{
 "cells": [
  {
   "cell_type": "markdown",
   "metadata": {},
   "source": [
    "## Import Dependencies and set seed for reproducibility\n",
    "\n",
    "Unfortunately, we cannot set the seed for the random initialisation of the model weights. This notebook is run on the first try and any change in the order or if an error occurs, the kernel should be restarted to reproduce results."
   ]
  },
  {
   "cell_type": "code",
   "execution_count": 1,
   "metadata": {},
   "outputs": [],
   "source": [
    "# import packages\n",
    "import tensorflow as tf\n",
    "import numpy as np\n",
    "import pandas as pd\n",
    "\n",
    "from sklearn import preprocessing\n",
    "from sklearn.model_selection import train_test_split\n",
    "from sklearn.feature_extraction.text import TfidfVectorizer\n",
    "from sklearn.preprocessing import StandardScaler\n",
    "\n",
    "from tensorflow.keras.models import Sequential, Model\n",
    "from tensorflow.keras.layers import Flatten, Dense, Dropout, Input, concatenate\n",
    "\n",
    "from tensorflow.keras.optimizers import Adam\n",
    "\n",
    "# set seed\n",
    "np.random.seed(1)\n",
    "tf.random.set_seed(1)"
   ]
  },
  {
   "cell_type": "markdown",
   "metadata": {},
   "source": [
    "## Read in the data and prepare it for model training\n",
    "Due to the large size and time taken to recreate the dataframe, it has been saved as a pickle file for easy rerun of the code."
   ]
  },
  {
   "cell_type": "code",
   "execution_count": 4,
   "metadata": {},
   "outputs": [],
   "source": [
    "# read in the dataframe that we will be using\n",
    "df = pd.read_pickle(\"final.pickle\")\n",
    "\n",
    "# set the dependent variable with an easy to remember and type name\n",
    "df[\"outcome\"] = df[\"vote_average\"]"
   ]
  },
  {
   "cell_type": "code",
   "execution_count": 129,
   "metadata": {},
   "outputs": [],
   "source": [
    "o = 1*len(df)+df['dislikeCount']"
   ]
  },
  {
   "cell_type": "code",
   "execution_count": 130,
   "metadata": {},
   "outputs": [],
   "source": [
    "df['ratio']=df['likeCount']/o"
   ]
  },
  {
   "cell_type": "code",
   "execution_count": 268,
   "metadata": {},
   "outputs": [
    {
     "data": {
      "text/html": [
       "<div>\n",
       "<style scoped>\n",
       "    .dataframe tbody tr th:only-of-type {\n",
       "        vertical-align: middle;\n",
       "    }\n",
       "\n",
       "    .dataframe tbody tr th {\n",
       "        vertical-align: top;\n",
       "    }\n",
       "\n",
       "    .dataframe thead th {\n",
       "        text-align: right;\n",
       "    }\n",
       "</style>\n",
       "<table border=\"1\" class=\"dataframe\">\n",
       "  <thead>\n",
       "    <tr style=\"text-align: right;\">\n",
       "      <th></th>\n",
       "      <th>imdb_id</th>\n",
       "      <th>twitter_text</th>\n",
       "      <th>id</th>\n",
       "      <th>average_interest</th>\n",
       "      <th>popularity</th>\n",
       "      <th>budget</th>\n",
       "      <th>revenue</th>\n",
       "      <th>original_title</th>\n",
       "      <th>cast</th>\n",
       "      <th>homepage</th>\n",
       "      <th>...</th>\n",
       "      <th>dislikeCount</th>\n",
       "      <th>favoriteCount</th>\n",
       "      <th>commentCount</th>\n",
       "      <th>youtube_text</th>\n",
       "      <th>index</th>\n",
       "      <th>youtube_polarity</th>\n",
       "      <th>twitter_polarity</th>\n",
       "      <th>image</th>\n",
       "      <th>outcome</th>\n",
       "      <th>ratio</th>\n",
       "    </tr>\n",
       "  </thead>\n",
       "  <tbody>\n",
       "    <tr>\n",
       "      <th>0</th>\n",
       "      <td>369610</td>\n",
       "      <td>[mathand looming estimate online keep running ...</td>\n",
       "      <td>135397.0</td>\n",
       "      <td>10.130435</td>\n",
       "      <td>32.985763</td>\n",
       "      <td>150000000</td>\n",
       "      <td>1513528810</td>\n",
       "      <td>Jurassic World</td>\n",
       "      <td>Chris Pratt|Bryce Dallas Howard|Irrfan Khan|Vi...</td>\n",
       "      <td>http://www.jurassicworld.com/</td>\n",
       "      <td>...</td>\n",
       "      <td>7224.0</td>\n",
       "      <td>0</td>\n",
       "      <td>13706</td>\n",
       "      <td>[great official global trailer hd confusion, b...</td>\n",
       "      <td>369610</td>\n",
       "      <td>0.178097</td>\n",
       "      <td>0.067247</td>\n",
       "      <td>[[[31.0, 58.0, 79.0], [32.0, 59.0, 80.0], [39....</td>\n",
       "      <td>6.5</td>\n",
       "      <td>11.528681</td>\n",
       "    </tr>\n",
       "    <tr>\n",
       "      <th>1</th>\n",
       "      <td>1392190</td>\n",
       "      <td>[liked youtube video max ost brother arm junki...</td>\n",
       "      <td>76341.0</td>\n",
       "      <td>10.617518</td>\n",
       "      <td>28.419936</td>\n",
       "      <td>150000000</td>\n",
       "      <td>378436354</td>\n",
       "      <td>Mad Max: Fury Road</td>\n",
       "      <td>Tom Hardy|Charlize Theron|Hugh Keays-Byrne|Nic...</td>\n",
       "      <td>http://www.madmaxmovie.com/</td>\n",
       "      <td>...</td>\n",
       "      <td>5653.0</td>\n",
       "      <td>0</td>\n",
       "      <td>13010</td>\n",
       "      <td>[look comment people probably love movie first...</td>\n",
       "      <td>1392190</td>\n",
       "      <td>0.220383</td>\n",
       "      <td>0.106874</td>\n",
       "      <td>[[[20.0, 42.0, 56.0], [20.0, 42.0, 56.0], [20....</td>\n",
       "      <td>7.1</td>\n",
       "      <td>12.683991</td>\n",
       "    </tr>\n",
       "    <tr>\n",
       "      <th>2</th>\n",
       "      <td>2908446</td>\n",
       "      <td>[boerneaj want know kind soil fertile lack civ...</td>\n",
       "      <td>262500.0</td>\n",
       "      <td>9.771852</td>\n",
       "      <td>13.112507</td>\n",
       "      <td>110000000</td>\n",
       "      <td>295238201</td>\n",
       "      <td>Insurgent</td>\n",
       "      <td>Shailene Woodley|Theo James|Kate Winslet|Ansel...</td>\n",
       "      <td>http://www.thedivergentseries.movie/#insurgent</td>\n",
       "      <td>...</td>\n",
       "      <td>2536.0</td>\n",
       "      <td>0</td>\n",
       "      <td>6800</td>\n",
       "      <td>[reflect decade make trailer much good movie l...</td>\n",
       "      <td>2908446</td>\n",
       "      <td>0.069770</td>\n",
       "      <td>0.056846</td>\n",
       "      <td>[[[63.0, 80.0, 87.0], [52.0, 69.0, 76.0], [55....</td>\n",
       "      <td>6.3</td>\n",
       "      <td>12.137214</td>\n",
       "    </tr>\n",
       "    <tr>\n",
       "      <th>3</th>\n",
       "      <td>2488496</td>\n",
       "      <td>[monday meme war noguilt life noguilt life, le...</td>\n",
       "      <td>140607.0</td>\n",
       "      <td>5.788889</td>\n",
       "      <td>11.173104</td>\n",
       "      <td>200000000</td>\n",
       "      <td>2068178225</td>\n",
       "      <td>Star Wars: The Force Awakens</td>\n",
       "      <td>Harrison Ford|Mark Hamill|Carrie Fisher|Adam D...</td>\n",
       "      <td>http://www.starwars.com/films/star-wars-episod...</td>\n",
       "      <td>...</td>\n",
       "      <td>24451.0</td>\n",
       "      <td>0</td>\n",
       "      <td>117201</td>\n",
       "      <td>[disappointed withmovie isbest trailer ive eve...</td>\n",
       "      <td>2488496</td>\n",
       "      <td>0.091126</td>\n",
       "      <td>0.104194</td>\n",
       "      <td>[[[8.0, 2.0, 2.0], [8.0, 2.0, 2.0], [8.0, 2.0,...</td>\n",
       "      <td>7.5</td>\n",
       "      <td>27.040452</td>\n",
       "    </tr>\n",
       "    <tr>\n",
       "      <th>4</th>\n",
       "      <td>2820852</td>\n",
       "      <td>[wiz khalifa see ft charlie puth official vide...</td>\n",
       "      <td>168259.0</td>\n",
       "      <td>17.764706</td>\n",
       "      <td>9.335014</td>\n",
       "      <td>190000000</td>\n",
       "      <td>1506249360</td>\n",
       "      <td>Furious 7</td>\n",
       "      <td>Vin Diesel|Paul Walker|Jason Statham|Michelle ...</td>\n",
       "      <td>http://www.furious7.com/</td>\n",
       "      <td>...</td>\n",
       "      <td>1533.0</td>\n",
       "      <td>0</td>\n",
       "      <td>2329</td>\n",
       "      <td>[omg epic, song, race paradice paul walker, so...</td>\n",
       "      <td>2820852</td>\n",
       "      <td>0.114094</td>\n",
       "      <td>0.111469</td>\n",
       "      <td>[[[254.0, 254.0, 252.0], [255.0, 255.0, 253.0]...</td>\n",
       "      <td>7.3</td>\n",
       "      <td>9.165653</td>\n",
       "    </tr>\n",
       "  </tbody>\n",
       "</table>\n",
       "<p>5 rows × 38 columns</p>\n",
       "</div>"
      ],
      "text/plain": [
       "   imdb_id                                       twitter_text        id  \\\n",
       "0   369610  [mathand looming estimate online keep running ...  135397.0   \n",
       "1  1392190  [liked youtube video max ost brother arm junki...   76341.0   \n",
       "2  2908446  [boerneaj want know kind soil fertile lack civ...  262500.0   \n",
       "3  2488496  [monday meme war noguilt life noguilt life, le...  140607.0   \n",
       "4  2820852  [wiz khalifa see ft charlie puth official vide...  168259.0   \n",
       "\n",
       "   average_interest  popularity     budget     revenue  \\\n",
       "0         10.130435   32.985763  150000000  1513528810   \n",
       "1         10.617518   28.419936  150000000   378436354   \n",
       "2          9.771852   13.112507  110000000   295238201   \n",
       "3          5.788889   11.173104  200000000  2068178225   \n",
       "4         17.764706    9.335014  190000000  1506249360   \n",
       "\n",
       "                 original_title  \\\n",
       "0                Jurassic World   \n",
       "1            Mad Max: Fury Road   \n",
       "2                     Insurgent   \n",
       "3  Star Wars: The Force Awakens   \n",
       "4                     Furious 7   \n",
       "\n",
       "                                                cast  \\\n",
       "0  Chris Pratt|Bryce Dallas Howard|Irrfan Khan|Vi...   \n",
       "1  Tom Hardy|Charlize Theron|Hugh Keays-Byrne|Nic...   \n",
       "2  Shailene Woodley|Theo James|Kate Winslet|Ansel...   \n",
       "3  Harrison Ford|Mark Hamill|Carrie Fisher|Adam D...   \n",
       "4  Vin Diesel|Paul Walker|Jason Statham|Michelle ...   \n",
       "\n",
       "                                            homepage  ... dislikeCount  \\\n",
       "0                      http://www.jurassicworld.com/  ...       7224.0   \n",
       "1                        http://www.madmaxmovie.com/  ...       5653.0   \n",
       "2     http://www.thedivergentseries.movie/#insurgent  ...       2536.0   \n",
       "3  http://www.starwars.com/films/star-wars-episod...  ...      24451.0   \n",
       "4                           http://www.furious7.com/  ...       1533.0   \n",
       "\n",
       "  favoriteCount commentCount  \\\n",
       "0             0        13706   \n",
       "1             0        13010   \n",
       "2             0         6800   \n",
       "3             0       117201   \n",
       "4             0         2329   \n",
       "\n",
       "                                        youtube_text    index  \\\n",
       "0  [great official global trailer hd confusion, b...   369610   \n",
       "1  [look comment people probably love movie first...  1392190   \n",
       "2  [reflect decade make trailer much good movie l...  2908446   \n",
       "3  [disappointed withmovie isbest trailer ive eve...  2488496   \n",
       "4  [omg epic, song, race paradice paul walker, so...  2820852   \n",
       "\n",
       "  youtube_polarity twitter_polarity  \\\n",
       "0         0.178097         0.067247   \n",
       "1         0.220383         0.106874   \n",
       "2         0.069770         0.056846   \n",
       "3         0.091126         0.104194   \n",
       "4         0.114094         0.111469   \n",
       "\n",
       "                                               image  outcome      ratio  \n",
       "0  [[[31.0, 58.0, 79.0], [32.0, 59.0, 80.0], [39....      6.5  11.528681  \n",
       "1  [[[20.0, 42.0, 56.0], [20.0, 42.0, 56.0], [20....      7.1  12.683991  \n",
       "2  [[[63.0, 80.0, 87.0], [52.0, 69.0, 76.0], [55....      6.3  12.137214  \n",
       "3  [[[8.0, 2.0, 2.0], [8.0, 2.0, 2.0], [8.0, 2.0,...      7.5  27.040452  \n",
       "4  [[[254.0, 254.0, 252.0], [255.0, 255.0, 253.0]...      7.3   9.165653  \n",
       "\n",
       "[5 rows x 38 columns]"
      ]
     },
     "execution_count": 268,
     "metadata": {},
     "output_type": "execute_result"
    }
   ],
   "source": [
    "df.head()"
   ]
  },
  {
   "cell_type": "markdown",
   "metadata": {},
   "source": [
    "## Split the data into train-test sets"
   ]
  },
  {
   "cell_type": "code",
   "execution_count": 270,
   "metadata": {},
   "outputs": [],
   "source": [
    "# split and rename the training and target variables\n",
    "training_data = df[[\"imdb_id\", \"twitter_polarity\",\n",
    "                    \"average_interest\",\"viewCount\",\"likeCount\",\"dislikeCount\",\"youtube_polarity\",\n",
    "                    \"commentCount\", \"youtube_text\", \"twitter_text\",\"ratio\"]]\n",
    "target_data = df[[\"outcome\"]]"
   ]
  },
  {
   "cell_type": "code",
   "execution_count": 271,
   "metadata": {},
   "outputs": [],
   "source": [
    "# isolate the training data and target data\n",
    "X = training_data[[\"twitter_polarity\",\"average_interest\",\"commentCount\",\"youtube_polarity\", \"youtube_text\",\"twitter_text\"]]\n",
    "y = target_data\n",
    "\n",
    "# perform sklearn's train-test split\n",
    "X_train, X_test, y_train, y_test = train_test_split(X, y, random_state=1)"
   ]
  },
  {
   "cell_type": "markdown",
   "metadata": {},
   "source": [
    "## The final model consists of three branches, one for numeric data, and two for youtube and twitter data, respectively.\n",
    "\n",
    "First, we split it into the numeric and text data. The text data will be further split later."
   ]
  },
  {
   "cell_type": "code",
   "execution_count": 329,
   "metadata": {},
   "outputs": [],
   "source": [
    "# train set\n",
    "numeric_train = X_train[[\n",
    "                        \"twitter_polarity\",\n",
    "                         \"average_interest\",\n",
    "                         \"commentCount\",\n",
    "                         \"youtube_polarity\"\n",
    "                        ]]\n",
    "text_train = X_train[[\"youtube_text\",\"twitter_text\"]]\n",
    "\n",
    "# test set \n",
    "numeric_test = X_test[[\n",
    "                       \"twitter_polarity\",\n",
    "                       \"average_interest\",\n",
    "                       \"commentCount\",\n",
    "                       \"youtube_polarity\"\n",
    "                        ]]\n",
    "text_test = X_test[[\"youtube_text\",\"twitter_text\"]]"
   ]
  },
  {
   "cell_type": "markdown",
   "metadata": {},
   "source": [
    "## Further process the text data\n"
   ]
  },
  {
   "cell_type": "code",
   "execution_count": 273,
   "metadata": {},
   "outputs": [],
   "source": [
    "# define transformer function to prepare text for the TFIDF vectioriser\n",
    "def transform(arr):\n",
    "    sentence = []\n",
    "    for i in arr:\n",
    "        sentence.append(i)\n",
    "    return \" \".join(sentence)"
   ]
  },
  {
   "cell_type": "code",
   "execution_count": 166,
   "metadata": {},
   "outputs": [
    {
     "name": "stderr",
     "output_type": "stream",
     "text": [
      "C:\\Users\\Zenya\\Anaconda3\\lib\\site-packages\\ipykernel_launcher.py:2: SettingWithCopyWarning: \n",
      "A value is trying to be set on a copy of a slice from a DataFrame.\n",
      "Try using .loc[row_indexer,col_indexer] = value instead\n",
      "\n",
      "See the caveats in the documentation: https://pandas.pydata.org/pandas-docs/stable/user_guide/indexing.html#returning-a-view-versus-a-copy\n",
      "  \n",
      "C:\\Users\\Zenya\\Anaconda3\\lib\\site-packages\\ipykernel_launcher.py:3: SettingWithCopyWarning: \n",
      "A value is trying to be set on a copy of a slice from a DataFrame.\n",
      "Try using .loc[row_indexer,col_indexer] = value instead\n",
      "\n",
      "See the caveats in the documentation: https://pandas.pydata.org/pandas-docs/stable/user_guide/indexing.html#returning-a-view-versus-a-copy\n",
      "  This is separate from the ipykernel package so we can avoid doing imports until\n",
      "C:\\Users\\Zenya\\Anaconda3\\lib\\site-packages\\ipykernel_launcher.py:4: SettingWithCopyWarning: \n",
      "A value is trying to be set on a copy of a slice from a DataFrame.\n",
      "Try using .loc[row_indexer,col_indexer] = value instead\n",
      "\n",
      "See the caveats in the documentation: https://pandas.pydata.org/pandas-docs/stable/user_guide/indexing.html#returning-a-view-versus-a-copy\n",
      "  after removing the cwd from sys.path.\n",
      "C:\\Users\\Zenya\\Anaconda3\\lib\\site-packages\\ipykernel_launcher.py:5: SettingWithCopyWarning: \n",
      "A value is trying to be set on a copy of a slice from a DataFrame.\n",
      "Try using .loc[row_indexer,col_indexer] = value instead\n",
      "\n",
      "See the caveats in the documentation: https://pandas.pydata.org/pandas-docs/stable/user_guide/indexing.html#returning-a-view-versus-a-copy\n",
      "  \"\"\"\n"
     ]
    }
   ],
   "source": [
    "# transform the text data\n",
    "X_train[\"youtube_text\"] = X_train[\"youtube_text\"].apply(lambda x: transform(x))\n",
    "X_train[\"twitter_text\"] = X_train[\"twitter_text\"].astype(str).apply(lambda x: transform(x))\n",
    "X_test[\"youtube_text\"] = X_test[\"youtube_text\"].apply(lambda x: transform(x))\n",
    "X_test[\"twitter_text\"] = X_test[\"twitter_text\"].astype(str).apply(lambda x: transform(x))"
   ]
  },
  {
   "cell_type": "markdown",
   "metadata": {},
   "source": [
    "## Vectorise our text data"
   ]
  },
  {
   "cell_type": "code",
   "execution_count": 167,
   "metadata": {},
   "outputs": [],
   "source": [
    "# vectorise the text data using TFIDF vectorisation\n",
    "vect1 = TfidfVectorizer(token_pattern='(?u)\\\\b\\\\w+\\\\b', ngram_range = (1,2), min_df = 3,max_df = 0.8, binary = True, max_features = 10000) # max vocab is 10000\n",
    "vect2 = TfidfVectorizer(token_pattern='(?u)\\\\b\\\\w+\\\\b', ngram_range = (1,2), min_df = 3,max_df = 0.8, binary = True, max_features = 1000) # max vocab is 1000\n",
    "\n",
    "docs_yt = vect1.fit_transform(X_train[\"youtube_text\"]).todense()\n",
    "docs_tweet = vect2.fit_transform(X_train[\"twitter_text\"]).todense()\n",
    "docs_test_yt = vect1.transform(X_test[\"youtube_text\"]).todense()\n",
    "docs_test_tweet = vect2.transform(X_test[\"twitter_text\"]).todense()"
   ]
  },
  {
   "cell_type": "markdown",
   "metadata": {},
   "source": [
    "## Further process our numeric data"
   ]
  },
  {
   "cell_type": "code",
   "execution_count": 243,
   "metadata": {},
   "outputs": [],
   "source": [
    "# scaling numeric_data to mean \n",
    "scaler = StandardScaler()\n",
    "scaler_X = scaler.fit(numeric_train)\n",
    "numeric_train = scaler_X.transform(numeric_train)\n",
    "numeric_test = scaler_X.transform(numeric_test)"
   ]
  },
  {
   "cell_type": "markdown",
   "metadata": {},
   "source": [
    "## Define the multi-input neural network model"
   ]
  },
  {
   "cell_type": "code",
   "execution_count": 169,
   "metadata": {},
   "outputs": [],
   "source": [
    "# define functions to create our textual model branches\n",
    "def create_text_branch_youtube():\n",
    "    model = Sequential()\n",
    "    model.add(Dense(64, input_shape = (10000,), activation='relu'))\n",
    "    model.add(Dropout(0.5))\n",
    "    model.add(Dense(48, activation='relu'))\n",
    "    model.add(Dropout(0.5))\n",
    "    model.add(Dense(32, activation='relu'))\n",
    "    return model\n",
    "\n",
    "def create_text_branch_twitter():\n",
    "    model = Sequential()\n",
    "    model.add(Dense(64, input_shape = (1000,), activation='relu'))\n",
    "    model.add(Dropout(0.5))\n",
    "    model.add(Dense(48, activation='relu'))\n",
    "    model.add(Dropout(0.5))\n",
    "    model.add(Dense(32, activation='relu'))\n",
    "    return model"
   ]
  },
  {
   "cell_type": "code",
   "execution_count": 170,
   "metadata": {},
   "outputs": [],
   "source": [
    "# multilayer perceptron for numeric data\n",
    "def create_mlp(dim, regress=False):\n",
    "    model = Sequential()\n",
    "    model.add(Dense(8, input_dim=dim, activation=\"elu\"))\n",
    "    model.add(Dense(4, activation=\"elu\"))\n",
    "    if regress:\n",
    "        model.add(Dense(1, activation=\"sigmoid\"))\n",
    "    return model"
   ]
  },
  {
   "cell_type": "markdown",
   "metadata": {},
   "source": [
    "## Create the model and train it"
   ]
  },
  {
   "cell_type": "code",
   "execution_count": 330,
   "metadata": {
    "scrolled": true
   },
   "outputs": [
    {
     "name": "stdout",
     "output_type": "stream",
     "text": [
      "Train on 2184 samples, validate on 243 samples\n",
      "Epoch 1/50\n",
      "2140/2184 [============================>.] - ETA: 0s - loss: 2.5673INFO:tensorflow:Assets written to: bt4222_model\\assets\n",
      "2184/2184 [==============================] - 6s 3ms/sample - loss: 2.5337 - val_loss: 0.7459\n",
      "Epoch 2/50\n",
      "2164/2184 [============================>.] - ETA: 0s - loss: 0.7766INFO:tensorflow:Assets written to: bt4222_model\\assets\n",
      "2184/2184 [==============================] - 4s 2ms/sample - loss: 0.7782 - val_loss: 0.6800\n",
      "Epoch 3/50\n",
      "2184/2184 [==============================] - 2s 994us/sample - loss: 0.6534 - val_loss: 0.6897\n",
      "Epoch 4/50\n",
      "2180/2184 [============================>.] - ETA: 0s - loss: 0.5606INFO:tensorflow:Assets written to: bt4222_model\\assets\n",
      "2184/2184 [==============================] - 4s 2ms/sample - loss: 0.5607 - val_loss: 0.6786\n",
      "Epoch 5/50\n",
      "2184/2184 [==============================] - 2s 966us/sample - loss: 0.5114 - val_loss: 0.7336\n",
      "Epoch 6/50\n",
      "2184/2184 [==============================] - 2s 1ms/sample - loss: 0.4737 - val_loss: 0.7182\n",
      "Epoch 7/50\n",
      "2184/2184 [==============================] - 2s 1ms/sample - loss: 0.4567 - val_loss: 0.7080\n"
     ]
    }
   ],
   "source": [
    "# create the branches\n",
    "mlp = create_mlp(numeric_train.shape[1], regress=False) # 4 dimensions\n",
    "emb_yt = create_text_branch_youtube()\n",
    "emb_tweet = create_text_branch_twitter()\n",
    "\n",
    "#Uncomment out one of the input lines\n",
    "#inputs = mlp.output\n",
    "#inputs = emb_yt.output\n",
    "#inputs = emb_tweet.output\n",
    "#inputs = [emb_yt.output, emb_tweet.output]\n",
    "#inputs = [mlp.output, emb_tweet.output]\n",
    "#inputs = [mlp.output, emb_yt.output]\n",
    "inputs = [mlp.output, emb_yt.output, emb_tweet.output]\n",
    "\n",
    "# concatenate our multi-input model (comment out if only one input)\n",
    "combinedInput = concatenate(inputs)\n",
    "\n",
    "# create the rest of the model\n",
    "x = Dense(64, activation=\"elu\")(combinedInput)\n",
    "#In the event that input is 1\n",
    "#x = Dense(64, activation=\"elu\")(inputs)\n",
    "x = Dense(48, activation=\"elu\")(x)\n",
    "x = Dropout(0.5)(x)\n",
    "x = Dense(32, activation=\"elu\")(x)\n",
    "x = Dense(16, activation=\"elu\")(x)\n",
    "x = Dense(1, activation=\"linear\")(x)\n",
    "\n",
    "model = Model(inputs=[mlp.input, emb_yt.input, emb_tweet.input], outputs=x)\n",
    "\n",
    "# define the optimiser function\n",
    "opt = Adam(lr=1e-3, decay=1e-3 / 200)\n",
    "\n",
    "# define callbacks for training -- during training, save the best model, and stop training if loss does not show a 0.01 improvement after 10 epoches\n",
    "cp_callback = tf.keras.callbacks.ModelCheckpoint(filepath='bt4222_model', monitor='val_loss', verbose=0, save_best_only=True, save_weights_only=False)\n",
    "es_callback = tf.keras.callbacks.EarlyStopping(monitor='val_loss', min_delta=0.01, patience=5, verbose=0)\n",
    "\n",
    "# compile the model\n",
    "model.compile(loss='mae', optimizer = opt)\n",
    "\n",
    "# train\n",
    "history = model.fit([numeric_train, docs_yt, docs_tweet], y_train, validation_split=0.1,\n",
    "   epochs=50, batch_size=4, callbacks=[cp_callback, es_callback])"
   ]
  },
  {
   "cell_type": "markdown",
   "metadata": {},
   "source": [
    "## Load the best model created during training, and test with the testing dataset"
   ]
  },
  {
   "cell_type": "code",
   "execution_count": 275,
   "metadata": {},
   "outputs": [],
   "source": [
    "models = {}"
   ]
  },
  {
   "cell_type": "code",
   "execution_count": 331,
   "metadata": {},
   "outputs": [
    {
     "name": "stdout",
     "output_type": "stream",
     "text": [
      "809/809 [==============================] - 0s 247us/sample - loss: 0.6693\n"
     ]
    }
   ],
   "source": [
    "# load model\n",
    "model = tf.keras.models.load_model(\"bt4222_model\")\n",
    "# test the mean squared error value\n",
    "test_acc = model.evaluate([numeric_test, docs_test_yt, docs_test_tweet], y_test)"
   ]
  },
  {
   "cell_type": "markdown",
   "metadata": {},
   "source": [
    "Run each one once to save the test accuracy of the feature that has been disabled."
   ]
  },
  {
   "cell_type": "code",
   "execution_count": 304,
   "metadata": {},
   "outputs": [],
   "source": [
    "models['No commentCount'] = test_acc"
   ]
  },
  {
   "cell_type": "code",
   "execution_count": 309,
   "metadata": {},
   "outputs": [],
   "source": [
    "models['No averageInterest'] = test_acc"
   ]
  },
  {
   "cell_type": "code",
   "execution_count": 313,
   "metadata": {},
   "outputs": [],
   "source": [
    "models['No twitterPolarity'] = test_acc"
   ]
  },
  {
   "cell_type": "code",
   "execution_count": 300,
   "metadata": {},
   "outputs": [],
   "source": [
    "models['No ytPolarity'] = test_acc"
   ]
  },
  {
   "cell_type": "code",
   "execution_count": 277,
   "metadata": {},
   "outputs": [],
   "source": [
    "models['Baseline'] = test_acc"
   ]
  },
  {
   "cell_type": "code",
   "execution_count": 332,
   "metadata": {},
   "outputs": [],
   "source": [
    "models['No Twitter Tweets'] = test_acc"
   ]
  },
  {
   "cell_type": "code",
   "execution_count": 285,
   "metadata": {},
   "outputs": [],
   "source": [
    "models['No YouTube Comments'] = test_acc"
   ]
  },
  {
   "cell_type": "code",
   "execution_count": 279,
   "metadata": {},
   "outputs": [],
   "source": [
    "# obtain the predicted values\n",
    "results = model.predict([numeric_test, docs_test_yt, docs_test_tweet])"
   ]
  },
  {
   "cell_type": "markdown",
   "metadata": {},
   "source": [
    "## Take a quick preview of our predicted values"
   ]
  },
  {
   "cell_type": "code",
   "execution_count": 280,
   "metadata": {},
   "outputs": [
    {
     "name": "stdout",
     "output_type": "stream",
     "text": [
      "[4.4908004] [6.6384764]\n"
     ]
    }
   ],
   "source": [
    "# our predicted values\n",
    "print(min(results),max(results))"
   ]
  },
  {
   "cell_type": "code",
   "execution_count": 281,
   "metadata": {},
   "outputs": [
    {
     "data": {
      "text/plain": [
       "<matplotlib.axes._subplots.AxesSubplot at 0x25b6feecb70>"
      ]
     },
     "execution_count": 281,
     "metadata": {},
     "output_type": "execute_result"
    },
    {
     "data": {
      "image/png": "[encoded data removed]",
      "text/plain": [
       "<Figure size 432x288 with 1 Axes>"
      ]
     },
     "metadata": {
      "needs_background": "light"
     },
     "output_type": "display_data"
    }
   ],
   "source": [
    "import seaborn as sns\n",
    "sns.distplot(results, hist=False)"
   ]
  },
  {
   "cell_type": "markdown",
   "metadata": {},
   "source": [
    "## Compare to actual values"
   ]
  },
  {
   "cell_type": "code",
   "execution_count": 227,
   "metadata": {},
   "outputs": [
    {
     "name": "stdout",
     "output_type": "stream",
     "text": [
      "[2.4] [8.2]\n"
     ]
    }
   ],
   "source": [
    "# transform y_test into a similar format to the predicted values for easier comparison\n",
    "y_test = np.stack(y_test['outcome']).reshape([-1,1])\n",
    "print(min(y_test),max(y_test))"
   ]
  },
  {
   "cell_type": "code",
   "execution_count": 228,
   "metadata": {},
   "outputs": [
    {
     "data": {
      "text/plain": [
       "<matplotlib.axes._subplots.AxesSubplot at 0x25b25b5d438>"
      ]
     },
     "execution_count": 228,
     "metadata": {},
     "output_type": "execute_result"
    },
    {
     "data": {
      "image/png": "[encoded data removed]",
      "text/plain": [
       "<Figure size 432x288 with 1 Axes>"
      ]
     },
     "metadata": {
      "needs_background": "light"
     },
     "output_type": "display_data"
    }
   ],
   "source": [
    "sns.distplot(y_test, hist=False)"
   ]
  },
  {
   "cell_type": "code",
   "execution_count": 21,
   "metadata": {},
   "outputs": [],
   "source": [
    "# kills the gpu process to free any used memory (restart the kernel after this or other gpu processes will fail)\n",
    "from numba import cuda\n",
    "cuda.select_device(0)\n",
    "cuda.close()"
   ]
  },
  {
   "cell_type": "markdown",
   "metadata": {},
   "source": [
    "# Feature importance\n",
    "We take a look at which of our features is the most important at predicting the popularity of a movie"
   ]
  },
  {
   "cell_type": "code",
   "execution_count": 322,
   "metadata": {},
   "outputs": [],
   "source": [
    "difference = {}"
   ]
  },
  {
   "cell_type": "code",
   "execution_count": 333,
   "metadata": {},
   "outputs": [],
   "source": [
    "for key in models.keys():\n",
    "    difference[key] = models[key]-models['mlp, yt, twitter']"
   ]
  },
  {
   "cell_type": "code",
   "execution_count": 340,
   "metadata": {},
   "outputs": [],
   "source": [
    "difference['Baseline'] = difference['mlp, yt, twitter']"
   ]
  },
  {
   "cell_type": "code",
   "execution_count": 346,
   "metadata": {},
   "outputs": [],
   "source": [
    "df_models = pd.DataFrame(data=list(zip(difference.values(),difference.keys())), columns=['Loss','Features'])"
   ]
  },
  {
   "cell_type": "code",
   "execution_count": 347,
   "metadata": {},
   "outputs": [
    {
     "data": {
      "text/html": [
       "<div>\n",
       "<style scoped>\n",
       "    .dataframe tbody tr th:only-of-type {\n",
       "        vertical-align: middle;\n",
       "    }\n",
       "\n",
       "    .dataframe tbody tr th {\n",
       "        vertical-align: top;\n",
       "    }\n",
       "\n",
       "    .dataframe thead th {\n",
       "        text-align: right;\n",
       "    }\n",
       "</style>\n",
       "<table border=\"1\" class=\"dataframe\">\n",
       "  <thead>\n",
       "    <tr style=\"text-align: right;\">\n",
       "      <th></th>\n",
       "      <th>Loss</th>\n",
       "      <th>Features</th>\n",
       "    </tr>\n",
       "  </thead>\n",
       "  <tbody>\n",
       "    <tr>\n",
       "      <th>0</th>\n",
       "      <td>0.037969</td>\n",
       "      <td>No ytPolarity</td>\n",
       "    </tr>\n",
       "    <tr>\n",
       "      <th>1</th>\n",
       "      <td>-0.005128</td>\n",
       "      <td>No commentCount</td>\n",
       "    </tr>\n",
       "    <tr>\n",
       "      <th>2</th>\n",
       "      <td>0.027796</td>\n",
       "      <td>No averageInterest</td>\n",
       "    </tr>\n",
       "    <tr>\n",
       "      <th>3</th>\n",
       "      <td>0.016795</td>\n",
       "      <td>No twitterPolarity</td>\n",
       "    </tr>\n",
       "    <tr>\n",
       "      <th>4</th>\n",
       "      <td>0.002149</td>\n",
       "      <td>No Twitter tweets</td>\n",
       "    </tr>\n",
       "    <tr>\n",
       "      <th>5</th>\n",
       "      <td>0.090771</td>\n",
       "      <td>No YouTube Comments</td>\n",
       "    </tr>\n",
       "    <tr>\n",
       "      <th>6</th>\n",
       "      <td>0.000000</td>\n",
       "      <td>Baseline</td>\n",
       "    </tr>\n",
       "  </tbody>\n",
       "</table>\n",
       "</div>"
      ],
      "text/plain": [
       "       Loss             Features\n",
       "0  0.037969        No ytPolarity\n",
       "1 -0.005128      No commentCount\n",
       "2  0.027796   No averageInterest\n",
       "3  0.016795   No twitterPolarity\n",
       "4  0.002149    No Twitter tweets\n",
       "5  0.090771  No YouTube Comments\n",
       "6  0.000000             Baseline"
      ]
     },
     "execution_count": 347,
     "metadata": {},
     "output_type": "execute_result"
    }
   ],
   "source": [
    "df_models"
   ]
  },
  {
   "cell_type": "code",
   "execution_count": 348,
   "metadata": {},
   "outputs": [
    {
     "data": {
      "text/plain": [
       "<matplotlib.axes._subplots.AxesSubplot at 0x25b79e5c0f0>"
      ]
     },
     "execution_count": 348,
     "metadata": {},
     "output_type": "execute_result"
    },
    {
     "data": {
      "image/png": "[encoded data removed]",
      "text/plain": [
       "<Figure size 432x288 with 1 Axes>"
      ]
     },
     "metadata": {
      "needs_background": "light"
     },
     "output_type": "display_data"
    }
   ],
   "source": [
    "sns.barplot(y='Features', x='Loss', data=df_models, orient='h')"
   ]
  }
 ],
 "metadata": {
  "kernelspec": {
   "display_name": "Python 3",
   "language": "python",
   "name": "python3"
  },
  "language_info": {
   "codemirror_mode": {
    "name": "ipython",
    "version": 3
   },
   "file_extension": ".py",
   "mimetype": "text/x-python",
   "name": "python",
   "nbconvert_exporter": "python",
   "pygments_lexer": "ipython3",
   "version": "3.7.6"
  }
 },
 "nbformat": 4,
 "nbformat_minor": 4
}
